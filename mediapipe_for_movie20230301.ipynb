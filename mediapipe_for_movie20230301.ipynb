{
  "cells": [
    {
      "cell_type": "markdown",
      "metadata": {
        "id": "view-in-github",
        "colab_type": "text"
      },
      "source": [
        "<a href=\"https://colab.research.google.com/github/LittleDarwin2021/mediapipe_get_coordinate/blob/main/mediapipe_for_movie20230301.ipynb\" target=\"_parent\"><img src=\"https://colab.research.google.com/assets/colab-badge.svg\" alt=\"Open In Colab\"/></a>"
      ]
    },
    {
      "cell_type": "markdown",
      "metadata": {
        "id": "D2PlazN5Q94l"
      },
      "source": [
        "# セットアップ"
      ]
    },
    {
      "cell_type": "code",
      "execution_count": null,
      "metadata": {
        "id": "AuQfLvpuJkb0"
      },
      "outputs": [],
      "source": [
        "!pip install mediapipe"
      ]
    },
    {
      "cell_type": "code",
      "execution_count": 2,
      "metadata": {
        "id": "m433lPjLDjim"
      },
      "outputs": [],
      "source": [
        "import glob\n",
        "import pandas as pd\n",
        "import numpy as np\n",
        "import cv2\n",
        "import mediapipe as mp\n",
        "import os\n",
        "import shutil"
      ]
    },
    {
      "cell_type": "code",
      "execution_count": 3,
      "metadata": {
        "id": "bR9cnLO0Dffy"
      },
      "outputs": [],
      "source": [
        "!mkdir \"save_imgs\"\n",
        "!mkdir \"load_imgs\"\n",
        "!mkdir \"save_movie1\"\n",
        "!mkdir \"save_movie2\"\n",
        "!mkdir \"load_movie\""
      ]
    },
    {
      "cell_type": "code",
      "execution_count": 4,
      "metadata": {
        "id": "BboTB-FAMfPo"
      },
      "outputs": [],
      "source": [
        "mp_drawing = mp.solutions.drawing_utils\n",
        "mp_drawing_styles = mp.solutions.drawing_styles\n",
        "mp_pose = mp.solutions.pose"
      ]
    },
    {
      "cell_type": "code",
      "execution_count": 5,
      "metadata": {
        "id": "bccA7BsHQfyk"
      },
      "outputs": [],
      "source": [
        "#静止画の座標を取る関数\n",
        "def create_table(image_num, results, image_height, image_width):\n",
        "  x_list = []\n",
        "  y_list = []\n",
        "  z_list = []\n",
        "  results_list = results.pose_landmarks.landmark\n",
        "  for i, result in enumerate(results_list) :\n",
        "    x_list.append(result.x)\n",
        "    y_list.append(result.y)\n",
        "    z_list.append(result.z)\n",
        "  all_list = [image_num] + x_list + y_list + z_list + [image_height] +[image_width]\n",
        "  return all_list"
      ]
    },
    {
      "cell_type": "markdown",
      "metadata": {
        "id": "O8b1g8OQXTyp"
      },
      "source": [
        "# ビデオの読み込み＋静止画に分解"
      ]
    },
    {
      "cell_type": "code",
      "source": [
        "#動画ファイルの指定\n",
        "video_path = \"load_movie/sample3.mov\""
      ],
      "metadata": {
        "id": "NeZtQYlAdB76"
      },
      "execution_count": 10,
      "outputs": []
    },
    {
      "cell_type": "code",
      "source": [
        "#動画ファイルを画像に分解\n",
        "#分解された画像ファイル群はsave_movie1フォルダに保存\n",
        "\n",
        "if os.path.isdir('images'):\n",
        "    shutil.rmtree('images')\n",
        "\n",
        "os.makedirs('images', exist_ok=True)\n",
        " \n",
        "def video_2_images(video_file= video_path,   \n",
        "                   image_dir='save_movie1/', \n",
        "                   image_file='%s.png'):\n",
        " \n",
        "    \n",
        "    i = 0\n",
        "    #フレームをスキップしたい場合は2以上の数値を入力\n",
        "    interval = 1\n",
        "    length = 300\n",
        "    \n",
        "    cap = cv2.VideoCapture(video_file)\n",
        "    while(cap.isOpened()):\n",
        "        flag, frame = cap.read()  \n",
        "        if flag == False:  \n",
        "                break\n",
        "        if i == length*interval:\n",
        "                break\n",
        "        if i % interval == 0:    \n",
        "           cv2.imwrite(image_dir+image_file % str(int(i/interval)).zfill(6), frame)\n",
        "        i += 1 \n",
        "    cap.release()  \n",
        " \n",
        "def main():\n",
        "    video_2_images()\n",
        "    \n",
        "if __name__ == '__main__':\n",
        "    main()"
      ],
      "metadata": {
        "id": "4iBZe3IbdB-Q"
      },
      "execution_count": 11,
      "outputs": []
    },
    {
      "cell_type": "markdown",
      "metadata": {
        "id": "RFbsbDmFX22w"
      },
      "source": [
        "# MediaPipeで静止画を処理"
      ]
    },
    {
      "cell_type": "code",
      "execution_count": 12,
      "metadata": {
        "id": "Fs2IYWOGtCGj"
      },
      "outputs": [],
      "source": [
        "#座標を格納するリスト\n",
        "coordinate = []\n",
        "\n",
        "IMAGE_FILES = []\n",
        "for name in sorted(glob.glob('save_movie1/*.png')):\n",
        "    IMAGE_FILES.append(name)\n",
        "\n",
        "with mp_pose.Pose(\n",
        "    min_detection_confidence=0.5,\n",
        "    min_tracking_confidence=0.5) as pose:\n",
        "  #元々動画だったものを1枚ずつ画像として骨格推定の処理を行う\n",
        "  for idx, file in enumerate(IMAGE_FILES):\n",
        "    image = cv2.imread(file)\n",
        "    #元画像のサイズを抽出する。座標データは正規化処理されるので、元のアスペクト比に戻したい時にこれらを使う\n",
        "    image_height, image_width, _ = image.shape\n",
        "    image.flags.writeable = False\n",
        "    image = cv2.cvtColor(image, cv2.COLOR_BGR2RGB)\n",
        "    results = pose.process(image)\n",
        "    \n",
        "    if not results.pose_landmarks:\n",
        "      continue\n",
        "    \n",
        "\n",
        "    image.flags.writeable = True\n",
        "    image = cv2.cvtColor(image, cv2.COLOR_RGB2BGR)\n",
        "    mp_drawing.draw_landmarks(\n",
        "        image,\n",
        "        results.pose_landmarks,\n",
        "        mp_pose.POSE_CONNECTIONS,\n",
        "        landmark_drawing_spec=mp_drawing_styles.get_default_pose_landmarks_style())\n",
        "    \n",
        "    #座標データを抽出する\n",
        "    all_list = create_table(idx, results, image_height, image_width)\n",
        "    coordinate.append(all_list)\n",
        "    #加工された画像はsave_movie2フォルダに保存\n",
        "    cv2.imwrite('save_movie2/' + str(idx).zfill(6) + '.png', image)\n"
      ]
    },
    {
      "cell_type": "code",
      "execution_count": 13,
      "metadata": {
        "id": "Fk1NARvMR6hq"
      },
      "outputs": [],
      "source": [
        "#pandasカラム名の準備\n",
        "x_num, y_num, z_num = [], [], []\n",
        "for i in range(33):\n",
        "  x_num.append(\"x\" +\"{}\".format(i).zfill(2))\n",
        "  y_num.append(\"y\" +\"{}\".format(i).zfill(2))\n",
        "  z_num.append(\"z\" +\"{}\".format(i).zfill(2))\n",
        "column_list = [\"num\"] +x_num + y_num + z_num + [\"image_height\"] + [\"image_width\"]"
      ]
    },
    {
      "cell_type": "code",
      "source": [
        "#座標情報をデータフレーム化する\n",
        "df = pd.DataFrame(coordinate, columns = column_list)"
      ],
      "metadata": {
        "id": "0AQCokpEdCAX"
      },
      "execution_count": 14,
      "outputs": []
    },
    {
      "cell_type": "markdown",
      "metadata": {
        "id": "Xth7qTogKjmE"
      },
      "source": [
        "# 処理した画像をmp4動画に変換\n"
      ]
    },
    {
      "cell_type": "code",
      "execution_count": null,
      "metadata": {
        "id": "fOyDbsFjKp2S"
      },
      "outputs": [],
      "source": [
        "# 既に output.mp4 があれば削除\n",
        "if os.path.exists('output.mp4'):\n",
        "   os.remove('output.mp4')\n",
        "\n",
        "! ffmpeg -r 10 -i save_movie2/%6d.png\\\n",
        "               -vcodec libx264 -pix_fmt yuv420p output.mp4"
      ]
    },
    {
      "cell_type": "code",
      "execution_count": null,
      "metadata": {
        "id": "1grd4PeRLFgO"
      },
      "outputs": [],
      "source": [
        "# --- mp4動画の再生 ---\n",
        "from IPython.display import HTML\n",
        "from base64 import b64encode\n",
        "\n",
        "mp4 = open('output.mp4', 'rb').read()\n",
        "data_url = 'data:video/mp4;base64,' + b64encode(mp4).decode()\n",
        "HTML(f\"\"\"\n",
        "<video width=\"85%\" height=\"85%\" controls>\n",
        "      <source src=\"{data_url}\" type=\"video/mp4\">\n",
        "</video>\"\"\")"
      ]
    },
    {
      "cell_type": "code",
      "source": [],
      "metadata": {
        "id": "OFywb77hjCyW"
      },
      "execution_count": null,
      "outputs": []
    }
  ],
  "metadata": {
    "colab": {
      "provenance": [],
      "include_colab_link": true
    },
    "kernelspec": {
      "display_name": "Python 3",
      "language": "python",
      "name": "python3"
    },
    "language_info": {
      "codemirror_mode": {
        "name": "ipython",
        "version": 3
      },
      "file_extension": ".py",
      "mimetype": "text/x-python",
      "name": "python",
      "nbconvert_exporter": "python",
      "pygments_lexer": "ipython3",
      "version": "3.7.9"
    }
  },
  "nbformat": 4,
  "nbformat_minor": 0
}